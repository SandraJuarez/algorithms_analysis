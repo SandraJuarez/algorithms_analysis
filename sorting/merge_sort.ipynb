{
 "cells": [
  {
   "cell_type": "markdown",
   "metadata": {},
   "source": [
    "Merge Sort Algorithm\n",
    "===\n",
    "Implementation of Merge Sort Algorithm using C for the loops\n"
   ]
  },
  {
   "cell_type": "markdown",
   "metadata": {},
   "source": [
    "imports"
   ]
  },
  {
   "cell_type": "code",
   "execution_count": 1,
   "metadata": {},
   "outputs": [],
   "source": [
    "import ctypes\n",
    "import numpy as np"
   ]
  },
  {
   "cell_type": "code",
   "execution_count": 2,
   "metadata": {},
   "outputs": [],
   "source": [
    "\n",
    "clibrary = ctypes.CDLL('./clibrary.dll')"
   ]
  },
  {
   "cell_type": "code",
   "execution_count": 3,
   "metadata": {},
   "outputs": [],
   "source": [
    "def sort(Array):\n",
    "    #we calculate len here in python becauuse is easier than in c and pass it as argument to our function\n",
    "    lenght=len(Array)\n",
    "    if lenght <= 1:\n",
    "        return Array\n",
    "    half=len(Array)//2\n",
    "\n",
    "    #divide the array in two parts left and right-------------------------------\n",
    "    #We need to specify the the type of arguments that our c function needs\n",
    "    #we need pointers to our input array and also to the arrays left and rights\n",
    "    clibrary.left_right.argtypes = (ctypes.POINTER(ctypes.c_int), ctypes.c_int, ctypes.c_int,ctypes.POINTER(ctypes.c_int),ctypes.POINTER(ctypes.c_int)) \n",
    "    #The input array that will be devided\n",
    "    arr_type = (ctypes.c_int * lenght)(*Array)\n",
    "    #In this two arrays the result of our c function left_right will be sotred\n",
    "    L = (ctypes.c_int * half)()\n",
    "    R = (ctypes.c_int * (lenght-half))()\n",
    "\n",
    "    #it will output our L and R arrays\n",
    "    clibrary.left_right(arr_type,half,lenght,L,R)\n",
    "\n",
    "    #And we copnvert to numpy arrays\n",
    "    L = np.ctypeslib.as_array(L)\n",
    "    R = np.ctypeslib.as_array(R)\n",
    "    \n",
    "    #We  devide recursivly\n",
    "    if len(L)>1:\n",
    "        L=sort(L)\n",
    "    \n",
    "    if len(R)>1:\n",
    "        R=sort(R)\n",
    "    \n",
    "    #Add the infinity value at the end of each array\n",
    "    L=np.append(L,100000000)\n",
    "    R=np.append(R,100000000)\n",
    "\n",
    "    #We define the type of arguments that will be passed\n",
    "    clibrary.merge_sort.argtypes = (ctypes.POINTER(ctypes.c_int),ctypes.POINTER(ctypes.c_int), ctypes.c_int, ctypes.c_int,ctypes.POINTER(ctypes.c_int))\n",
    "    #And here the result will be stored\n",
    "    sorted_result = (ctypes.c_int * (len(L)+len(R)-1))()\n",
    "    #They were numpy array, we convert again to c types\n",
    "    L = (ctypes.c_int * len(L))(*L)\n",
    "    R = (ctypes.c_int * len(R))(*R)\n",
    "    \n",
    "    #We call our function and get the sorted array\n",
    "    clibrary.merge_sort(R,L,half,lenght,sorted_result)\n",
    "\n",
    "    # convert the sorted_result array to numpy array\n",
    "    sorted_result = np.ctypeslib.as_array(sorted_result)\n",
    "    #remove the big number added to the end of the arrays\n",
    "    sorted_result=sorted_result[:-1]\n",
    "\n",
    "    return sorted_result"
   ]
  },
  {
   "cell_type": "markdown",
   "metadata": {},
   "source": [
    "Test\n",
    "=======\n",
    "Now we pass an average case (random numbers)"
   ]
  },
  {
   "cell_type": "code",
   "execution_count": 16,
   "metadata": {},
   "outputs": [
    {
     "name": "stdout",
     "output_type": "stream",
     "text": [
      "[  1   2   2   2   3   4   4   5   5   5   6   6   7   9  10  12  12  14\n",
      "  32  33  44  45  55  59  65  67  86 102]\n",
      "Time taken to sort the array with the loops written in c: 0.001999 seconds\n"
     ]
    }
   ],
   "source": [
    "import time\n",
    "# Record the start time\n",
    "start_time = time.time()\n",
    "#random=np.random.randint(0,100,100)\n",
    "random= [6, 5, 12, 10, 9, 1,45,33,65,14,32,55,86,102,2,12,44,59,67,3,2,5,6,5,4,7,2,4]\n",
    "result=sort(random)\n",
    "print(result)\n",
    "end_time = time.time()\n",
    "\n",
    "# Calculate and print the elapsed time in seconds\n",
    "elapsed_time = end_time - start_time\n",
    "print(f\"Time taken to sort the array with the loops written in c: {elapsed_time:.6f} seconds\")"
   ]
  },
  {
   "cell_type": "markdown",
   "metadata": {},
   "source": [
    "Compare time with code 100% writen in python\n",
    "========================================="
   ]
  },
  {
   "cell_type": "code",
   "execution_count": 8,
   "metadata": {},
   "outputs": [],
   "source": [
    "def insertionSort(Array):\n",
    "    for j in range(0,len(Array)):\n",
    "        key=Array[j]\n",
    "        i=j-1\n",
    "        while (i>=0) and (Array[i]>key):\n",
    "            Array[i+1]=Array[i]\n",
    "            i=i-1\n",
    "        Array[i+1]=key\n",
    "\n",
    "def mergeSort(Array):\n",
    "    if len(Array)>1:\n",
    "        n=len(Array)\n",
    "        q=len(Array)//2\n",
    "        L=Array[:q]\n",
    "        R=Array[q:]\n",
    "        if len(L)>4:\n",
    "            mergeSort(L)\n",
    "            mergeSort(R)\n",
    "        else:\n",
    "            #we utilize insertion sort if the input is small\n",
    "            insertionSort(L)\n",
    "            insertionSort(R)\n",
    "            #print('se utilizó isertion sort')\n",
    "\n",
    "        i=j=k=0\n",
    "        while i<len(L) and j<len(R):\n",
    "            if (L[i]<R[j]):\n",
    "                Array[k]=L[i]\n",
    "                i=i+1\n",
    "            else:\n",
    "                Array[k]=R[j]\n",
    "                j=j+1\n",
    "            k=k+1\n",
    "\n",
    "        while i<len(L):\n",
    "            Array[k]=L[i]\n",
    "            i=i+1\n",
    "            k=k+1\n",
    "        while j<len(R):\n",
    "            Array[k]=R[j]\n",
    "            j=j+1\n",
    "            k=k+1\n",
    "    \n",
    "# Print the array\n",
    "def printList(array):\n",
    "    for i in range(len(array)):\n",
    "        print(array[i], end=\" \")\n",
    "    print()"
   ]
  },
  {
   "cell_type": "code",
   "execution_count": 18,
   "metadata": {},
   "outputs": [
    {
     "name": "stdout",
     "output_type": "stream",
     "text": [
      "[6, 5, 12, 10, 9, 1, 45, 33, 65, 14, 32, 55, 86, 102, 2, 12, 44, 59, 67, 3, 2, 5, 6, 5, 4, 7, 2, 4]\n",
      "Time taken to sort the array with python: 0.000000 seconds\n",
      "Sorted array is: \n",
      "1 2 2 2 3 4 4 5 5 5 6 6 7 9 10 12 12 14 32 33 44 45 55 59 65 67 86 102 \n"
     ]
    }
   ],
   "source": [
    "\n",
    "# Record the start time\n",
    "random= [6, 5, 12, 10, 9, 1,45,33,65,14,32,55,86,102,2,12,44,59,67,3,2,5,6,5,4,7,2,4]\n",
    "print(random)\n",
    "start_time = time.time()\n",
    "mergeSort(random)\n",
    "end_time = time.time()\n",
    "# Calculate and print the elapsed time in seconds\n",
    "elapsed_time = end_time - start_time\n",
    "print(f\"Time taken to sort the array with python: {elapsed_time:.6f} seconds\")\n",
    "print(\"Sorted array is: \")\n",
    "printList(random)"
   ]
  }
 ],
 "metadata": {
  "kernelspec": {
   "display_name": "Python 3",
   "language": "python",
   "name": "python3"
  },
  "language_info": {
   "codemirror_mode": {
    "name": "ipython",
    "version": 3
   },
   "file_extension": ".py",
   "mimetype": "text/x-python",
   "name": "python",
   "nbconvert_exporter": "python",
   "pygments_lexer": "ipython3",
   "version": "3.10.5"
  },
  "orig_nbformat": 4
 },
 "nbformat": 4,
 "nbformat_minor": 2
}
