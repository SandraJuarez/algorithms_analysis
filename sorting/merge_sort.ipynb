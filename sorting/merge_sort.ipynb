{
 "cells": [
  {
   "cell_type": "markdown",
   "metadata": {},
   "source": [
    "Merge Sort Algorithm\n",
    "===\n",
    "Implementation of Merge Sort Algorithm using C for the loops\n"
   ]
  },
  {
   "cell_type": "markdown",
   "metadata": {},
   "source": [
    "imports"
   ]
  },
  {
   "cell_type": "code",
   "execution_count": 1,
   "metadata": {},
   "outputs": [],
   "source": [
    "import ctypes\n",
    "import numpy as np"
   ]
  },
  {
   "cell_type": "markdown",
   "metadata": {},
   "source": [
    "connect the c library. Remember using MingGW-64bits (if you are using Windows-64), and compile the library dll (os for linux) on cmd using the comand:\n",
    "\n",
    "x86_64-w64-mingw32-gcc -shared -o clibrary.dll merge_sort.c"
   ]
  },
  {
   "cell_type": "code",
   "execution_count": 2,
   "metadata": {},
   "outputs": [],
   "source": [
    "# Load the shared library into ctypes\n",
    "clibrary = ctypes.CDLL('./clibrary.dll')"
   ]
  },
  {
   "cell_type": "code",
   "execution_count": 3,
   "metadata": {},
   "outputs": [],
   "source": [
    "def sort(Array):\n",
    "    #compute the lenght of the array to get the half of it----------------------\n",
    "    lenght=len(Array)\n",
    "    if lenght <= 1:\n",
    "        return Array\n",
    "    half=len(Array)//2\n",
    "\n",
    "    #divide the array in two parts left and right-------------------------------\n",
    "    #define the type of the data to be passed to the c function\n",
    "    clibrary.left_right.argtypes = (ctypes.POINTER(ctypes.c_int), ctypes.c_int, ctypes.c_int,ctypes.POINTER(ctypes.c_int),ctypes.POINTER(ctypes.c_int)) \n",
    "    #convert the array to be passed to the c function\n",
    "    arr_type = (ctypes.c_int * lenght)(*Array)\n",
    "    #define two empty arrays to store the left and right part of the array\n",
    "    L = (ctypes.c_int * half)()\n",
    "    R = (ctypes.c_int * (lenght-half))()\n",
    "\n",
    "    #call the c function, and automatically fill the left and right arrays because we are using pointers\n",
    "    clibrary.left_right(arr_type,half,lenght,L,R)\n",
    "\n",
    "    # convert the left and right arrays to numpy arrays\n",
    "    L = np.ctypeslib.as_array(L)\n",
    "    R = np.ctypeslib.as_array(R)\n",
    "    \n",
    "    #recursive call to the function to sort the left and right arrays\n",
    "    if len(L)>1:\n",
    "        L=sort(L)\n",
    "    \n",
    "    if len(R)>1:\n",
    "        R=sort(R)\n",
    "    \n",
    "    #add a big number to the end of the arrays to avoid errors when merging\n",
    "    L=np.append(L,100000000)\n",
    "    R=np.append(R,100000000)\n",
    "\n",
    "    #define the type of the data to be passed to the c function\n",
    "    clibrary.merge_sort.argtypes = (ctypes.POINTER(ctypes.c_int),ctypes.POINTER(ctypes.c_int), ctypes.c_int, ctypes.c_int,ctypes.POINTER(ctypes.c_int))\n",
    "    #empty array to store the sorted array returned by the c function\n",
    "    sorted_result = (ctypes.c_int * (len(L)+len(R)-1))()\n",
    "    #convert the arrays to be passed to the c function\n",
    "    L = (ctypes.c_int * len(L))(*L)\n",
    "    R = (ctypes.c_int * len(R))(*R)\n",
    "    \n",
    "    #call the c function, and automatically fill the sorted_result array because we are using pointers\n",
    "    clibrary.merge_sort(R,L,half,lenght,sorted_result)\n",
    "\n",
    "    # convert the sorted_result array to numpy array\n",
    "    sorted_result = np.ctypeslib.as_array(sorted_result)\n",
    "    #remove the big number added to the end of the arrays\n",
    "    sorted_result=sorted_result[:-1]\n",
    "\n",
    "    return sorted_result"
   ]
  },
  {
   "cell_type": "markdown",
   "metadata": {},
   "source": [
    "Testing our implmentation"
   ]
  },
  {
   "cell_type": "code",
   "execution_count": 13,
   "metadata": {},
   "outputs": [
    {
     "name": "stdout",
     "output_type": "stream",
     "text": [
      "[ 0  1  1  1  4  5  6  8  8  8  9  9  9  9 10 11 13 13 13 16 16 18 18 24\n",
      " 24 24 26 27 28 29 29 30 31 32 32 33 33 34 35 35 37 38 39 41 41 42 42 43\n",
      " 44 44 45 48 48 50 50 50 52 54 55 56 57 57 58 59 61 63 63 66 66 71 72 73\n",
      " 74 77 77 77 77 77 78 78 78 78 79 79 81 83 84 87 87 89 89 90 94 94 96 96\n",
      " 98 98 98 99]\n"
     ]
    }
   ],
   "source": [
    "array_aleatorio=np.random.randint(0,100,100)\n",
    "print(sort(array_aleatorio))"
   ]
  },
  {
   "cell_type": "markdown",
   "metadata": {},
   "source": [
    "Comparison with numpy.sort"
   ]
  },
  {
   "cell_type": "code",
   "execution_count": 14,
   "metadata": {},
   "outputs": [
    {
     "name": "stdout",
     "output_type": "stream",
     "text": [
      "[ 0  1  1  1  4  5  6  8  8  8  9  9  9  9 10 11 13 13 13 16 16 18 18 24\n",
      " 24 24 26 27 28 29 29 30 31 32 32 33 33 34 35 35 37 38 39 41 41 42 42 43\n",
      " 44 44 45 48 48 50 50 50 52 54 55 56 57 57 58 59 61 63 63 66 66 71 72 73\n",
      " 74 77 77 77 77 77 78 78 78 78 79 79 81 83 84 87 87 89 89 90 94 94 96 96\n",
      " 98 98 98 99]\n"
     ]
    }
   ],
   "source": [
    "print(np.sort(array_aleatorio))"
   ]
  }
 ],
 "metadata": {
  "kernelspec": {
   "display_name": "Python 3",
   "language": "python",
   "name": "python3"
  },
  "language_info": {
   "codemirror_mode": {
    "name": "ipython",
    "version": 3
   },
   "file_extension": ".py",
   "mimetype": "text/x-python",
   "name": "python",
   "nbconvert_exporter": "python",
   "pygments_lexer": "ipython3",
   "version": "3.11.3"
  },
  "orig_nbformat": 4
 },
 "nbformat": 4,
 "nbformat_minor": 2
}
