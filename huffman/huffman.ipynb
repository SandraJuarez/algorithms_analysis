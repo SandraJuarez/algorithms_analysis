{
 "cells": [
  {
   "cell_type": "code",
   "execution_count": 12,
   "metadata": {},
   "outputs": [],
   "source": [
    "import heapq"
   ]
  },
  {
   "cell_type": "code",
   "execution_count": 27,
   "metadata": {},
   "outputs": [],
   "source": [
    "class nodo:\n",
    "    def __init__(self,freq,symbol,left=None,right=None):\n",
    "        self.freq=freq\n",
    "        self.symbol=symbol\n",
    "        self.left=left\n",
    "        self.right=right\n",
    "        self.huff=''\n",
    "    def __lt__(self, nxt): \n",
    "        return self.freq < nxt.freq "
   ]
  },
  {
   "cell_type": "markdown",
   "metadata": {},
   "source": [
    "Let's see how the functionalities of heapq work "
   ]
  },
  {
   "cell_type": "code",
   "execution_count": 28,
   "metadata": {},
   "outputs": [
    {
     "name": "stdout",
     "output_type": "stream",
     "text": [
      "[4, 8, 5, 59]\n",
      "4\n",
      "5\n",
      "Now left and right were removed from the list: [8, 59]\n",
      "8\n",
      "59\n"
     ]
    }
   ],
   "source": [
    "heap=[]\n",
    "heapq.heappush(heap,4) #the class nodo asks us for a frequency and its symbol\n",
    "heapq.heappush(heap,8)\n",
    "heapq.heappush(heap,5)\n",
    "heapq.heappush(heap,59)\n",
    "print(heap)\n",
    "#now from this original heap lets extract the lowest frequencies\n",
    "left=heapq.heappop(heap)\n",
    "right=heapq.heappop(heap)\n",
    "print(left)\n",
    "print(right)\n",
    "print('Now left and right were removed from the list:',heap)\n",
    "left=heapq.heappop(heap)\n",
    "right=heapq.heappop(heap)\n",
    "print(left)\n",
    "print(right)\n"
   ]
  },
  {
   "cell_type": "code",
   "execution_count": 45,
   "metadata": {},
   "outputs": [],
   "source": [
    "def printNodes(nodo, val=''): \n",
    "  \n",
    "    # huffman code for current node \n",
    "    newVal = val + str(nodo.huff) \n",
    "  \n",
    "    # if node is not an edge node \n",
    "    # then traverse inside it \n",
    "    if(nodo.left): \n",
    "        printNodes(nodo.left, newVal) \n",
    "    if(nodo.right): \n",
    "        printNodes(nodo.right, newVal) \n",
    "  \n",
    "        # if node is edge node then \n",
    "        # display its huffman code \n",
    "    if(not nodo.left and not nodo.right): \n",
    "        print(f\"{nodo.symbol} -> {newVal}\") "
   ]
  },
  {
   "cell_type": "markdown",
   "metadata": {},
   "source": [
    "Excercise from Dasgupta 5.18\n"
   ]
  },
  {
   "cell_type": "code",
   "execution_count": 46,
   "metadata": {},
   "outputs": [],
   "source": [
    "chars = ['blank','e','t','a','o','i','n','s','h','r','d','l','c','u','m','w','f','g','y','p','b','v','k','j','x','q','z']\n",
    "freq=[18.3,10.2,7.7,6.8,5.9,5.8,5.5,5.1,4.9,4.8,3.5,3.4,2.6,2.4,2.1,1.9,1.8,1.7,1.6,1.6,1.3,0.9,0.6,0.2,0.2,0.1,0.1]"
   ]
  },
  {
   "cell_type": "code",
   "execution_count": 47,
   "metadata": {},
   "outputs": [],
   "source": [
    "heap=[]\n",
    "#we insert our chars and frequencies into our heap and we sort it\n",
    "for i in range(len(freq)):\n",
    "    heapq.heappush(heap,nodo(freq[i],chars[i]))"
   ]
  },
  {
   "cell_type": "code",
   "execution_count": 51,
   "metadata": {},
   "outputs": [
    {
     "name": "stdout",
     "output_type": "stream",
     "text": [
      "r -> 0000\n",
      "h -> 0001\n",
      "u -> 00100\n",
      "c -> 00101\n",
      "s -> 0011\n",
      "e -> 010\n",
      "n -> 0110\n",
      "i -> 0111\n",
      "o -> 1000\n",
      "b -> 100100\n",
      "y -> 100101\n",
      "p -> 100110\n",
      "g -> 100111\n",
      "a -> 1010\n",
      "l -> 10110\n",
      "d -> 10111\n",
      "t -> 1100\n",
      "f -> 110100\n",
      "w -> 110101\n",
      "v -> 1101100\n",
      "k -> 11011010\n",
      "q -> 1101101100\n",
      "z -> 1101101101\n",
      "j -> 1101101110\n",
      "x -> 1101101111\n",
      "m -> 110111\n",
      "blank -> 111\n"
     ]
    }
   ],
   "source": [
    "while len(heap)>1: \n",
    "    #we get the smallest ones and remove from our list heap\n",
    "    left=heapq.heappop(heap)\n",
    "    right=heapq.heappop(heap)\n",
    "    # assign directional value to these nodes \n",
    "    left.huff = 0\n",
    "    right.huff = 1\n",
    "\n",
    "    #and we create a new node \n",
    "    #the childrens of this new node are left and right\n",
    "    new_node=nodo(left.freq+right.freq,left.symbol+right.symbol,left,right)\n",
    "    heapq.heappush(heap,new_node)\n",
    "    print(len(heap))\n",
    "printNodes(heap[0])"
   ]
  },
  {
   "cell_type": "code",
   "execution_count": null,
   "metadata": {},
   "outputs": [],
   "source": []
  }
 ],
 "metadata": {
  "kernelspec": {
   "display_name": "Python 3",
   "language": "python",
   "name": "python3"
  },
  "language_info": {
   "codemirror_mode": {
    "name": "ipython",
    "version": 3
   },
   "file_extension": ".py",
   "mimetype": "text/x-python",
   "name": "python",
   "nbconvert_exporter": "python",
   "pygments_lexer": "ipython3",
   "version": "3.10.5"
  }
 },
 "nbformat": 4,
 "nbformat_minor": 2
}
