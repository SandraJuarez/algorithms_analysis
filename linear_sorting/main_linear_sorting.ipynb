{
 "cells": [
  {
   "cell_type": "markdown",
   "metadata": {},
   "source": [
    "Linear Sorting Algorithms \n",
    "==="
   ]
  },
  {
   "cell_type": "code",
   "execution_count": 1,
   "metadata": {},
   "outputs": [],
   "source": [
    "import ctypes\n",
    "import numpy as np\n",
    "import time"
   ]
  },
  {
   "cell_type": "markdown",
   "metadata": {},
   "source": [
    "Load the shared library into ctypes"
   ]
  },
  {
   "cell_type": "code",
   "execution_count": 2,
   "metadata": {},
   "outputs": [],
   "source": [
    "clibrary = ctypes.CDLL('./clibrary.dll')"
   ]
  },
  {
   "cell_type": "markdown",
   "metadata": {},
   "source": [
    "Counting Sort\n",
    "==============="
   ]
  },
  {
   "cell_type": "code",
   "execution_count": 3,
   "metadata": {},
   "outputs": [],
   "source": [
    "def counting_sort(array):\n",
    "    k_max=max(array)\n",
    "    lenght=len(array)\n",
    "    #define the type of data that requires the function in C\n",
    "    clibrary.counting_sort.argtypes = [ctypes.POINTER(ctypes.c_int), ctypes.c_int, ctypes.c_int,ctypes.POINTER(ctypes.c_int)]\n",
    "\n",
    "    #convert the array to a pointer\n",
    "    array = (ctypes.c_int * lenght)(*array)\n",
    "    sorted_array = (ctypes.c_int * lenght)()\n",
    "\n",
    "    #call the function in C\n",
    "    clibrary.counting_sort(array, k_max,lenght,sorted_array)\n",
    "\n",
    "    sorted_array = np.ctypeslib.as_array(sorted_array)\n",
    "    return sorted_array"
   ]
  },
  {
   "cell_type": "markdown",
   "metadata": {},
   "source": [
    "Radix Sort\n",
    "=========="
   ]
  },
  {
   "cell_type": "code",
   "execution_count": 4,
   "metadata": {},
   "outputs": [],
   "source": [
    "def queue_radix_sort(array):\n",
    "    k_max=max(array)\n",
    "    lenght=len(array)\n",
    "    #define the type of data that requires the function in C\n",
    "    clibrary.counting_sort.argtypes = [ctypes.POINTER(ctypes.c_int), ctypes.c_int, ctypes.c_int,ctypes.POINTER(ctypes.c_int)]\n",
    "\n",
    "\n",
    "    #convert the array to a pointer\n",
    "    array = (ctypes.c_int * lenght)(*array)\n",
    "    sorted_array = (ctypes.c_int * lenght)()\n",
    "\n",
    "    #call the function in C\n",
    "    #clibrary.radix_sort(array,k_max,lenght,sorted_array)\n",
    "    clibrary.radix_sort(array, ctypes.c_int(k_max), ctypes.c_int(lenght), sorted_array)\n",
    "\n",
    "    sorted_array = np.ctypeslib.as_array(sorted_array)\n",
    "    return sorted_array"
   ]
  },
  {
   "cell_type": "markdown",
   "metadata": {},
   "source": [
    "Bucket Sort\n",
    "==============="
   ]
  },
  {
   "cell_type": "code",
   "execution_count": 5,
   "metadata": {},
   "outputs": [],
   "source": [
    "def bucket_sort(array):\n",
    "    k_max=max(array)\n",
    "    lenght=len(array)\n",
    "    #define the type of data that requires the function in C\n",
    "    clibrary.bucket_sort.argtypes = [ctypes.POINTER(ctypes.c_int), ctypes.c_int, ctypes.c_int,ctypes.POINTER(ctypes.c_int)]\n",
    "\n",
    "\n",
    "    #convert the array to a pointer\n",
    "    array = (ctypes.c_int * lenght)(*array)\n",
    "    sorted_array = (ctypes.c_int * lenght)()\n",
    "\n",
    "    #call the function in C\n",
    "    #clibrary.radix_sort(array,k_max,lenght,sorted_array)\n",
    "    clibrary.bucket_sort(array, ctypes.c_int(k_max), ctypes.c_int(lenght), sorted_array)\n",
    "\n",
    "    sorted_array = np.ctypeslib.as_array(sorted_array)\n",
    "    return sorted_array"
   ]
  },
  {
   "cell_type": "markdown",
   "metadata": {},
   "source": [
    "And we test our algorithms\n",
    "==========================="
   ]
  },
  {
   "cell_type": "code",
   "execution_count": 6,
   "metadata": {},
   "outputs": [
    {
     "name": "stdout",
     "output_type": "stream",
     "text": [
      "[412   5 162 479  19 131 490 332 443 233 420   4 443 371 430 437   2 460\n",
      " 250 416]\n"
     ]
    }
   ],
   "source": [
    "random_array = np.random.randint(1,500,20)\n",
    "print(random_array)"
   ]
  },
  {
   "cell_type": "code",
   "execution_count": 7,
   "metadata": {},
   "outputs": [
    {
     "name": "stdout",
     "output_type": "stream",
     "text": [
      "[  4   5  19 131 162 233 250 332 371 412 416 420 430 437 443 443 460 479\n",
      " 490   0]\n"
     ]
    }
   ],
   "source": [
    "sorted_array=counting_sort(random_array)\n",
    "print(sorted_array)"
   ]
  },
  {
   "cell_type": "code",
   "execution_count": 8,
   "metadata": {},
   "outputs": [
    {
     "name": "stdout",
     "output_type": "stream",
     "text": [
      "[  2   4   5  19 131 162 233 250 332 371 412 416 420 430 437 443 443 460\n",
      " 479 490]\n"
     ]
    }
   ],
   "source": [
    "sorted_array = queue_radix_sort(random_array)\n",
    "print(sorted_array)"
   ]
  },
  {
   "cell_type": "code",
   "execution_count": 9,
   "metadata": {},
   "outputs": [
    {
     "name": "stdout",
     "output_type": "stream",
     "text": [
      "[  2   4   5  19 131 162 233 250 332 371 412 416 420 430 437 443 443 460\n",
      " 479 490]\n"
     ]
    }
   ],
   "source": [
    "sorted_array = bucket_sort(random_array)\n",
    "print(sorted_array)"
   ]
  },
  {
   "cell_type": "markdown",
   "metadata": {},
   "source": [
    "Measure the time complexity\n",
    "==="
   ]
  },
  {
   "cell_type": "code",
   "execution_count": 11,
   "metadata": {},
   "outputs": [],
   "source": [
    "def time_complexity(max_size,step_size,mean_size):\n",
    "    #create random arrays of diferent sizes where the number don't repeat\n",
    "    time_per_size_c=[]\n",
    "    time_per_size_r=[]\n",
    "    time_per_size_b=[]\n",
    "    time_per_size_t=[]\n",
    "    for i in range(step_size,max_size,step_size):   #this loop is for arrays of diferent sizes\n",
    "        tiempos_c=[]\n",
    "        tiempos_r=[]\n",
    "        tiempos_b=[]\n",
    "        tiempos_t=[]\n",
    "        for j in range (mean_size): #this loop is for arrays of the same size, but different numbers. We'll take an average\n",
    "            array_aleatorio=np.random.choice(np.arange(0,i,1),i,replace=False)\n",
    "\n",
    "            #define initial time\n",
    "            random_num_to_search=np.random.randint(0,i,1)\n",
    "            random_num_to_search=random_num_to_search[0]\n",
    "\n",
    "            #for counting \n",
    "            t1_cs=time.time()\n",
    "            counting_sort(array_aleatorio)\n",
    "            #define final time\n",
    "            t2_cs=time.time()\n",
    "            tiempos_c.append(t2_cs-t1_cs)\n",
    "\n",
    "            #now for radix\n",
    "            t1_rs=time.time()\n",
    "            queue_radix_sort(array_aleatorio)\n",
    "            #define final time\n",
    "            t2_rs=time.time()\n",
    "            tiempos_r.append(t2_rs-t1_rs)\n",
    "            \n",
    "\n",
    "             #now for bucket\n",
    "            t1_bs=time.time()\n",
    "            bucket_sort(array_aleatorio)\n",
    "            #define final time\n",
    "            t2_bs=time.time()\n",
    "            tiempos_b.append(t2_bs-t1_bs)\n",
    "\n",
    "            #and finally for Tim Sort (build in sort of python)\n",
    "            t1_ts=time.time()\n",
    "            array_aleatorio=array_aleatorio.tolist()\n",
    "            array_aleatorio.sort()\n",
    "            #define final time\n",
    "            t2_ts=time.time()\n",
    "            tiempos_t.append(t2_ts-t1_ts)\n",
    "\n",
    "        #define the mean time of the same size arrays\n",
    "        tiempo_promedio_c=np.mean(tiempos_c)\n",
    "        tiempo_promedio_r=np.mean(tiempos_r)\n",
    "        tiempo_promedio_b=np.mean(tiempos_b)\n",
    "        tiempo_promedio_t=np.mean(tiempos_t)\n",
    "        time_per_size_c.append(tiempo_promedio_c)\n",
    "        time_per_size_r.append(tiempo_promedio_r)\n",
    "        time_per_size_b.append(tiempo_promedio_b)\n",
    "        time_per_size_t.append(tiempo_promedio_t)\n",
    "    return time_per_size_c,time_per_size_r,time_per_size_b,time_per_size_t"
   ]
  },
  {
   "cell_type": "markdown",
   "metadata": {},
   "source": [
    "Time Complexity Plot"
   ]
  },
  {
   "cell_type": "code",
   "execution_count": 16,
   "metadata": {},
   "outputs": [
    {
     "data": {
      "image/png": "[encoded data removed]",
      "text/plain": [
       "<Figure size 640x480 with 1 Axes>"
      ]
     },
     "metadata": {},
     "output_type": "display_data"
    }
   ],
   "source": [
    "#call the function time_complexity\n",
    "time_per_size_c,time_per_size_r,time_per_size_b,time_per_size_t=time_complexity(1000,100,5)\n",
    "\n",
    "\n",
    "#adjust a lineal function\n",
    "time_per_size_c=np.array(time_per_size_c)\n",
    "time_per_size_r=np.array(time_per_size_r)\n",
    "time_per_size_b=np.array(time_per_size_b)\n",
    "time_per_size_t=np.array(time_per_size_t)\n",
    "#size=np.arange(10,10000,10)\n",
    "#m,b=np.polyfit(size,time_per_size_c,1)\n",
    "#print(\"m es: \",m)\n",
    "#print(\"b es: \",b)\n",
    "#y=m*size+b\n",
    "\n",
    "#plot time per size and lineal function\n",
    "import matplotlib.pyplot as plt\n",
    "size=np.arange(1,1000,10)\n",
    "plt.plot(time_per_size_c,label='Counting Sort')\n",
    "plt.plot(time_per_size_r,label='Queue Radix Sort')\n",
    "plt.plot(time_per_size_c,label='Bucket Sort')\n",
    "plt.plot(time_per_size_c,label='Tim Sort')\n",
    "plt.legend()\n",
    "#plt.plot(size,y)\n",
    "plt.ylabel('time (s)')\n",
    "plt.xlabel('Array size')\n",
    "plt.title('Time complexity')\n",
    "plt.show()"
   ]
  },
  {
   "cell_type": "markdown",
   "metadata": {},
   "source": [
    "as we can see in the graph, the time complexity is O(n), this is because the time grows linearly with the size of the array"
   ]
  }
 ],
 "metadata": {
  "kernelspec": {
   "display_name": "Python 3",
   "language": "python",
   "name": "python3"
  },
  "language_info": {
   "codemirror_mode": {
    "name": "ipython",
    "version": 3
   },
   "file_extension": ".py",
   "mimetype": "text/x-python",
   "name": "python",
   "nbconvert_exporter": "python",
   "pygments_lexer": "ipython3",
   "version": "3.10.5"
  },
  "orig_nbformat": 4
 },
 "nbformat": 4,
 "nbformat_minor": 2
}
